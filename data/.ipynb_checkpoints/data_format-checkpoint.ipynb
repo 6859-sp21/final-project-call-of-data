{
 "cells": [
  {
   "cell_type": "code",
   "execution_count": 2,
   "metadata": {},
   "outputs": [],
   "source": [
    "import pandas as pd\n",
    "import numpy as np "
   ]
  },
  {
   "cell_type": "code",
   "execution_count": 102,
   "metadata": {},
   "outputs": [],
   "source": [
    "## read and format global datasets \n",
    "\n",
    "## Global dataset for average CO2, units: \n",
    "global_co2 = pd.read_csv('nasa/co2_formatted.csv')\n",
    "global_co2['Year'] = [int(i) for i in global_co2.date]\n",
    "global_co2 = global_co2.groupby('Year').mean()\n",
    "global_co2.reset_index(inplace=True)\n",
    "global_co2 = global_co2.drop(['#', 'Unnamed: 1', 'date', 'alized', 'Unnamed: 5', 'of days', 'mon mean'], axis =1)\n",
    "global_co2.columns = ['Year', 'co2_avg']\n",
    "\n",
    "## Global dataset for temperature \n",
    "global_temp = pd.read_csv('nasa/global_temp_formatted.csv')\n",
    "global_temp = global_temp.drop(['No_Smoothing'], axis=1)\n",
    "global_temp.columns = ['Year', 'temp']\n",
    "global_temp = global_temp[global_temp.Year >= 1958] #benchmarked by CO2 data\n",
    "\n",
    "## Global population dataset \n",
    "global_pop = pd.read_csv('absolute-increase-global-population.csv')\n",
    "global_pop = global_pop.drop(['Entity', 'Code',\n",
    "                              'Projected absolute population increase (OWID based on HYDE & UN)'], axis =1)\n",
    "global_pop.dropna(inplace= True)\n",
    "global_pop.columns = ['Year', 'pop_increase']\n",
    "global_pop = global_pop[(global_pop.Year >= 1958) & (global_pop.Year <= 2020)] #benchmarked by CO2 data\n",
    "global_pop.reset_index(inplace = True)\n",
    "global_pop['pop'] = ''\n",
    "pop_1957 = 2873306090\n",
    "global_pop.loc[0, 'pop'] = pop_1957 + global_pop.loc[0, 'pop_increase']\n",
    "\n",
    "for i in range(1,len(global_pop)):\n",
    "    global_pop.loc[i, 'pop'] = global_pop.loc[i-1, 'pop'] + global_pop.loc[i, 'pop_increase']\n",
    "\n",
    "# manually append missing years \n",
    "missing_yrs = [2017, 2018, 2019, 2020]\n",
    "missing_pop = [7547858925.0, 7631091040.0, 7713468100.0, 7794798739.0] \n",
    "missing_df = pd.DataFrame({'Year': missing_yrs, 'pop_increase': np.zeros([4,]), 'pop': missing_pop })\n",
    "global_pop = global_pop.append(missing_df)\n",
    "global_pop.reset_index(inplace=True)\n",
    "global_pop = global_pop.drop(['level_0', 'index', 'pop_increase'], axis=1)\n",
    "\n",
    "global_energy = pd.read_csv('global-energy-substitution.csv')\n"
   ]
  },
  {
   "cell_type": "code",
   "execution_count": 103,
   "metadata": {},
   "outputs": [
    {
     "name": "stdout",
     "output_type": "stream",
     "text": [
      "Index(['Year', 'co2_avg'], dtype='object')\n",
      "Index(['Year', 'temp'], dtype='object')\n",
      "Index(['Year', 'pop'], dtype='object')\n",
      "Index(['Entity', 'Code', 'Year', 'Wind (TWh; substituted energy)',\n",
      "       'Oil (TWh; substituted energy)', 'Nuclear (TWh; substituted energy)',\n",
      "       'Hydropower (TWh; substituted energy)',\n",
      "       'Traditional bimass (TWh; substituted energy)',\n",
      "       'Other renewables (TWh; substituted energy)',\n",
      "       'Biofuels (TWh; substituted energy)', 'Solar (TWh; substituted energy)',\n",
      "       'Coal (TWh; substituted energy)', 'Gas (TWh; substituted energy)'],\n",
      "      dtype='object')\n"
     ]
    }
   ],
   "source": [
    "print(global_co2.columns)\n",
    "print(global_temp.columns)\n",
    "print(global_pop.columns)\n",
    "print(global_energy.columns)"
   ]
  },
  {
   "cell_type": "code",
   "execution_count": 104,
   "metadata": {},
   "outputs": [
    {
     "name": "stdout",
     "output_type": "stream",
     "text": [
      "    Year           pop\n",
      "0   1958  2926870747.0\n",
      "1   1959  2981998522.0\n",
      "2   1960  3038727867.0\n",
      "3   1961  3097209056.0\n",
      "4   1962  3157730041.0\n",
      "..   ...           ...\n",
      "58  2016  7479860074.0\n",
      "59  2017  7547858925.0\n",
      "60  2018  7631091040.0\n",
      "61  2019  7713468100.0\n",
      "62  2020  7794798739.0\n",
      "\n",
      "[63 rows x 2 columns]\n"
     ]
    }
   ],
   "source": [
    "print(global_pop)"
   ]
  },
  {
   "cell_type": "code",
   "execution_count": 70,
   "metadata": {},
   "outputs": [],
   "source": [
    "country_GHG = pd.read_csv('OECD/AIR_GHG.csv')\n",
    "country_pop = pd.read_csv('population-by-country.csv')"
   ]
  },
  {
   "cell_type": "code",
   "execution_count": null,
   "metadata": {},
   "outputs": [],
   "source": []
  },
  {
   "cell_type": "code",
   "execution_count": null,
   "metadata": {},
   "outputs": [],
   "source": []
  }
 ],
 "metadata": {
  "kernelspec": {
   "display_name": "lempython",
   "language": "python",
   "name": "lempython"
  },
  "language_info": {
   "codemirror_mode": {
    "name": "ipython",
    "version": 3
   },
   "file_extension": ".py",
   "mimetype": "text/x-python",
   "name": "python",
   "nbconvert_exporter": "python",
   "pygments_lexer": "ipython3",
   "version": "3.7.6"
  }
 },
 "nbformat": 4,
 "nbformat_minor": 4
}
